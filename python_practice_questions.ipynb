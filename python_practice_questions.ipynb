{
 "cells": [
  {
   "cell_type": "markdown",
   "id": "1c3f4d6f",
   "metadata": {},
   "source": [
    "# BASIC PYTHON PROGRAMS (50)\n",
    "- USING OF LOOPS\n",
    "- USING DEF, LAMDA\n",
    "- USING OF FUNCTIONS\n",
    "- PANDAS SERIES\n",
    "- LIST,TUPLE,DICT\n",
    "- PANDAS\n",
    "- NUMPY\n",
    "#### CODED BY GANJI THILAK\n",
    " - github: https://github.com/ganjithilak\n",
    " - linkedin: https://www.linkedin.com/in/ganji-thilak-9b6567151"
   ]
  },
  {
   "cell_type": "markdown",
   "id": "5f13f294",
   "metadata": {},
   "source": [
    "\n",
    "## USING SPLIT FUNCTION \n"
   ]
  },
  {
   "cell_type": "code",
   "execution_count": null,
   "id": "4438706d",
   "metadata": {},
   "outputs": [],
   "source": [
    "text = 'hello world this is thilak'\n",
    "for i in text.split(' '):\n",
    "    print(i)"
   ]
  },
  {
   "cell_type": "markdown",
   "id": "2279d7b5",
   "metadata": {},
   "source": [
    "## TO CREATE A LIST OF EVEN NUMBERS "
   ]
  },
  {
   "cell_type": "code",
   "execution_count": null,
   "id": "4a6bb23f",
   "metadata": {},
   "outputs": [],
   "source": [
    "even_num = list(range(100,200,2))\n",
    "print(even_num)"
   ]
  },
  {
   "cell_type": "markdown",
   "id": "45923e64",
   "metadata": {},
   "source": [
    "## TO REPLACE A WORD OR LETTER FROM A SENTENCE"
   ]
  },
  {
   "cell_type": "code",
   "execution_count": null,
   "id": "03ea05fa",
   "metadata": {},
   "outputs": [],
   "source": [
    "text = 'hello world this is thilak'\n",
    "x = input('enter the word you want to replace from the given text: ')\n",
    "y = input('enter the new word: ')\n",
    "replace = text.replace(x,y)\n",
    "print(replace)\n"
   ]
  },
  {
   "cell_type": "markdown",
   "id": "3a0a7e4d",
   "metadata": {},
   "source": [
    "## PROGRAM TO FIND A FIBBONACCI SERICE"
   ]
  },
  {
   "cell_type": "code",
   "execution_count": null,
   "id": "19b3a92b",
   "metadata": {},
   "outputs": [],
   "source": [
    "number = int(input())\n",
    "x = 0\n",
    "y = 1\n",
    "while number:\n",
    "    c=x+y\n",
    "    y=x\n",
    "    x=c\n",
    "    print(x)\n",
    "    number = number-1\n"
   ]
  },
  {
   "cell_type": "markdown",
   "id": "a4634ba8",
   "metadata": {},
   "source": [
    "## FIND SUM OF ELEMENTS ON LIST"
   ]
  },
  {
   "cell_type": "code",
   "execution_count": null,
   "id": "fe812e1f",
   "metadata": {},
   "outputs": [],
   "source": [
    "n = [10,20,30]\n",
    "for i in n:\n",
    "    sum(n)\n",
    "print(sum(n))    "
   ]
  },
  {
   "cell_type": "markdown",
   "id": "567583e8",
   "metadata": {},
   "source": [
    "## PROGRAM TO FIND FACTORIAL OF GIVEN NUMBER"
   ]
  },
  {
   "cell_type": "code",
   "execution_count": null,
   "id": "265157dc",
   "metadata": {},
   "outputs": [],
   "source": [
    "n = int(input())\n",
    "start = 1\n",
    "while n:\n",
    "    start=start*n\n",
    "    n = n-1\n",
    "print(start)"
   ]
  },
  {
   "cell_type": "markdown",
   "id": "0cd30674",
   "metadata": {},
   "source": [
    "## PROGRAM TO GENERATE STAR PATTERNS\n",
    "\n"
   ]
  },
  {
   "cell_type": "code",
   "execution_count": null,
   "id": "407912e4",
   "metadata": {},
   "outputs": [],
   "source": [
    "for i in range(6):\n",
    "    print('$'*i)       "
   ]
  },
  {
   "cell_type": "code",
   "execution_count": null,
   "id": "967fbec9",
   "metadata": {},
   "outputs": [],
   "source": [
    "n = int(input())\n",
    "for i in range(n):\n",
    "    print(' '*(n-i+1)+'*'*(2*i+1))"
   ]
  },
  {
   "cell_type": "markdown",
   "id": "77216ab8",
   "metadata": {},
   "source": [
    "## NUMBER PATTERENS"
   ]
  },
  {
   "cell_type": "code",
   "execution_count": null,
   "id": "24d2804d",
   "metadata": {},
   "outputs": [],
   "source": [
    "n = list(range(1,10))\n",
    "for i in range(5):\n",
    "    for j in range(i+1):\n",
    "        print(n[i],end=' ')\n",
    "    print() "
   ]
  },
  {
   "cell_type": "code",
   "execution_count": null,
   "id": "5bdd7c1b",
   "metadata": {},
   "outputs": [],
   "source": [
    "n = list(range(1,10))\n",
    "for i in range(5):\n",
    "    for j in range(i+1):\n",
    "        print(n[i+j],end=' ')\n",
    "    print() "
   ]
  },
  {
   "cell_type": "code",
   "execution_count": null,
   "id": "c2036921",
   "metadata": {},
   "outputs": [],
   "source": [
    "num = int(input())\n",
    "for i in range(1,num+1):\n",
    "    for j in range(1,i+1):\n",
    "        print(j,end = ' ')\n",
    "    print()"
   ]
  },
  {
   "cell_type": "markdown",
   "id": "4b848783",
   "metadata": {},
   "source": [
    "## PROGRAM TO CONVER A RANGE OF NUMBERS INTO LIST FORMATE"
   ]
  },
  {
   "cell_type": "code",
   "execution_count": null,
   "id": "ac23bde4",
   "metadata": {},
   "outputs": [],
   "source": [
    "l = [] #first create a empty list \n",
    "for i in range(1,10):\n",
    "    l.append(i) #append used to add elements into a list\n",
    "print(l)    \n"
   ]
  },
  {
   "cell_type": "markdown",
   "id": "812b6734",
   "metadata": {},
   "source": [
    "## PROGRAM TO CALCULATE NUMBER OF INT, LOWERCASE, UPPERCASE LETTERS IN A GIVEN SENTENCE"
   ]
  },
  {
   "cell_type": "code",
   "execution_count": null,
   "id": "37c59c2a",
   "metadata": {},
   "outputs": [],
   "source": [
    "sentence = input() #enter a sentense\n",
    "up=0\n",
    "low=0\n",
    "num=0\n",
    "for i in sentence:\n",
    "    if i.islower():\n",
    "        low=low+1\n",
    "    elif i.isupper():\n",
    "        up = up+1\n",
    "    elif i.isdigit():\n",
    "        num = num+1        \n",
    "print('uppercase letters: ',up)\n",
    "print('lowercase letters: ',low)\n",
    "print('int letters: ',num)"
   ]
  },
  {
   "cell_type": "markdown",
   "id": "88310270",
   "metadata": {},
   "source": [
    "## PROGRAM TO FIND THE GIVEN STRING IS A PALINDROME OR NOT"
   ]
  },
  {
   "cell_type": "code",
   "execution_count": null,
   "id": "cd6e867e",
   "metadata": {},
   "outputs": [],
   "source": [
    "word = input()\n",
    "if word == word[::-1]:\n",
    "    print('yes')\n",
    "else:\n",
    "    print('no')"
   ]
  },
  {
   "cell_type": "markdown",
   "id": "eeae9dc4",
   "metadata": {},
   "source": [
    "## PROGRAM TO PRINT A SEQUENCE OF NUMBERS INTO SORTED LIST"
   ]
  },
  {
   "cell_type": "code",
   "execution_count": null,
   "id": "f8b028eb",
   "metadata": {},
   "outputs": [],
   "source": [
    "L = input()\n",
    "unsorted = []\n",
    "for i in L:\n",
    "    unsorted.append(i)\n",
    "unsorted.sort()\n",
    "print(unsorted)\n"
   ]
  },
  {
   "cell_type": "markdown",
   "id": "0f86cbce",
   "metadata": {},
   "source": [
    "## USING FOR LOOP TO PRINT ALPHABETS"
   ]
  },
  {
   "cell_type": "code",
   "execution_count": null,
   "id": "6202a296",
   "metadata": {},
   "outputs": [],
   "source": [
    "for alphabet in range(65,91): #use range(97,123): for lowercase letters\n",
    "    print(chr(alphabet),end=' ')\n",
    "print()\n",
    "for alphabet in range(97,123): #use range(65,91): for uppercase letters\n",
    "    print(chr(alphabet),end=' ')"
   ]
  },
  {
   "cell_type": "markdown",
   "id": "e693f7af",
   "metadata": {},
   "source": [
    "## PROGRAM TO FIND THE NUMBERS THAT ARE DIVISIBLE WITH BOTH 5 AND 13 IN A GIVEN RANGE OF NUMMBERS"
   ]
  },
  {
   "cell_type": "code",
   "execution_count": null,
   "id": "ce0f81bc",
   "metadata": {},
   "outputs": [],
   "source": [
    "for i in range(1,1000):\n",
    "    if i%13==0 and i%5==0:\n",
    "        print(i)"
   ]
  },
  {
   "cell_type": "markdown",
   "id": "d50186d0",
   "metadata": {},
   "source": [
    "## PROGRAM TO SIMULATE A DISC ROLL"
   ]
  },
  {
   "cell_type": "code",
   "execution_count": null,
   "id": "e9d9d004",
   "metadata": {},
   "outputs": [],
   "source": [
    "import random\n",
    "num = random.randint(1,6)\n",
    "print(num)"
   ]
  },
  {
   "cell_type": "markdown",
   "id": "cdf7c82a",
   "metadata": {},
   "source": [
    "## PROGRAM TO FIND NO. OF DAYS BETWEEN 2 DATES"
   ]
  },
  {
   "cell_type": "code",
   "execution_count": null,
   "id": "fa891d36",
   "metadata": {},
   "outputs": [],
   "source": [
    "import datetime\n",
    "\n",
    "def numOfDays(date1, date2):\n",
    " return (date2-date1).days\n",
    "\n",
    "date1_ent = input('Enter a date in YYYY-MM-DD format: ')\n",
    "year, month, day = map(int, date1_ent.split('-'))\n",
    "date1 = datetime.date(year, month, day)\n",
    "date2_ent = input('Enter a date in YYYY-MM-DD format: ')\n",
    "year, month, day = map(int, date2_ent.split('-'))\n",
    "date2 = datetime.date(year, month, day)\n",
    "print(numOfDays(date1, date2), \"days\")"
   ]
  },
  {
   "cell_type": "markdown",
   "id": "4b2057cb",
   "metadata": {},
   "source": [
    "## PRIME NUMBERS PROGRAM"
   ]
  },
  {
   "cell_type": "code",
   "execution_count": null,
   "id": "3d0b14f5",
   "metadata": {},
   "outputs": [],
   "source": [
    "c=[]\n",
    "for n in range (1, 101):\n",
    "    count = 0\n",
    "    for i in range(2, (n//2 + 1)):\n",
    "        if(n % i == 0):\n",
    "            count = count + 1\n",
    "            break\n",
    "    if (count == 0 and n!= 1):\n",
    "        c.append(n)\n",
    "print(c)"
   ]
  },
  {
   "cell_type": "markdown",
   "id": "c7b705db",
   "metadata": {},
   "source": [
    "## PROGRAM TO CALCULATE ALL POSSIBLE PERMITATIONS OF GIVEN NUMBERS"
   ]
  },
  {
   "cell_type": "code",
   "execution_count": null,
   "id": "c8070c94",
   "metadata": {},
   "outputs": [],
   "source": [
    "seq = list(map(int,input().split(','))) #ex: 3,2,4\n",
    "perm = [[]]\n",
    "for num in seq:\n",
    "    temp = []\n",
    "    for i in perm:\n",
    "        for j in range(len(i)+1):\n",
    "            temp.append(i[:j] + [num] + i[j:])\n",
    "            perm = temp\n",
    "print('permitation:',perm)"
   ]
  },
  {
   "cell_type": "markdown",
   "id": "162794f1",
   "metadata": {},
   "source": [
    "## PROGRAM TO GENERATE A SEQUENCE OF N NUMBERS OF A GEOMETRIC PROGRESSION WHEN INITIAL NUMBER (a) AND COMMON RATIO (r) IS GIVEN AND PRINT THE SEQUENCE IS A LIST."
   ]
  },
  {
   "cell_type": "code",
   "execution_count": null,
   "id": "0a4987de",
   "metadata": {},
   "outputs": [],
   "source": [
    "N,a,r = map(int,input().split(' '))#enter 3 values giving space (eg: 20 3 4)\n",
    "seq = []\n",
    "for i in range(N):\n",
    "    seq.append(a*r**(i))\n",
    "print(seq)"
   ]
  },
  {
   "cell_type": "markdown",
   "id": "6c074a07",
   "metadata": {},
   "source": [
    " ## PROGRAM TO GENERATE NUMBER FROM 1 TO 1000 AND SAVE IN A TXT FILE AND PRINT ONLY ARMSTRONG NUMBERS"
   ]
  },
  {
   "cell_type": "code",
   "execution_count": null,
   "id": "4539b9ea",
   "metadata": {},
   "outputs": [],
   "source": [
    "file = open('sample.txt','w')\n",
    "for i in range(1,1000):\n",
    "    file.write(str(i)+'\\n')\n",
    "file.close()"
   ]
  },
  {
   "cell_type": "code",
   "execution_count": null,
   "id": "4d055a30",
   "metadata": {},
   "outputs": [],
   "source": [
    "file = open('sample.txt','r')\n",
    "for i in file.readlines():\n",
    "    num=i[:-1]\n",
    "    s=0\n",
    "    for m in list(num):\n",
    "        s=s+int(m)**3\n",
    "    if s==int(num):\n",
    "        print(num)\n",
    "file.close()"
   ]
  },
  {
   "cell_type": "markdown",
   "id": "fe302fbd",
   "metadata": {},
   "source": [
    "## PROGRAM TO FIND SQUARE, CUBE, OF A NUMBER USING DEF AND LAMBDA\n"
   ]
  },
  {
   "cell_type": "code",
   "execution_count": null,
   "id": "6f1d2cbf",
   "metadata": {},
   "outputs": [],
   "source": [
    "def sqr(n):\n",
    "    return lambda n:n*n\n",
    "def cub(n):\n",
    "    return lambda n:n*n*n\n",
    "n = int(input('enter a num: '))\n",
    "s = sqr(n)\n",
    "c = cub(n)\n",
    "print('square is {} and cube is {} '.format(s(n),c(n)))\n"
   ]
  },
  {
   "cell_type": "markdown",
   "id": "495665bd",
   "metadata": {},
   "source": [
    "# PANDAS"
   ]
  },
  {
   "cell_type": "markdown",
   "id": "e414f774",
   "metadata": {},
   "source": [
    "## PROGRAM TO CREATE A PANDAS SERIES"
   ]
  },
  {
   "cell_type": "code",
   "execution_count": null,
   "id": "64443f8b",
   "metadata": {},
   "outputs": [],
   "source": [
    "import pandas as pd\n",
    "import numpy as np\n",
    "X,Y = map(int,input().split(' '))\n",
    "series=pd.Series(np.arange(X,Y+1))\n",
    "print(series)"
   ]
  },
  {
   "cell_type": "markdown",
   "id": "da376fb0",
   "metadata": {},
   "source": [
    "## PROGRAM TO ADD, SUB, MULT, DIVD TWO PANDASS SERIES"
   ]
  },
  {
   "cell_type": "code",
   "execution_count": null,
   "id": "72c2ff72",
   "metadata": {},
   "outputs": [],
   "source": [
    "import pandas as pd\n",
    "l1 = map(int,input('LIST 1: ').split(',')) #ex: 2,3,4,5,6\n",
    "l2 = map(int,input('LIST 2: ').split(',')) #ex: 9,8,7,6,5\n",
    "S1 = pd.Series(l1)\n",
    "S2 = pd.Series(l2)\n",
    "print(\"ADD IS \\n {} \\n SUB IS \\n {} \\n MULT IS \\n {} \\n DIVD IS \\n {} \".format(S1+S2,S1-S2,S1*S2,S1/S2))"
   ]
  },
  {
   "cell_type": "markdown",
   "id": "e424cf8b",
   "metadata": {},
   "source": [
    "## PROGRAM TO CONVERT A DICT INTO PANDAS SERIES\n"
   ]
  },
  {
   "cell_type": "code",
   "execution_count": null,
   "id": "47cc9bcb",
   "metadata": {},
   "outputs": [],
   "source": [
    "import pandas as pd\n",
    "my_dict = {'yash':28,'krish':22,'thilak':21,'yogesh':23}\n",
    "ser = pd.Series(my_dict) # 'S' MUST BE IN UPPER CASE\n",
    "print(ser)"
   ]
  },
  {
   "cell_type": "markdown",
   "id": "38207589",
   "metadata": {},
   "source": [
    "## PROGRAM TO ADD AND DELETE COLUMNS TO A DATAFRAME WHEN A DICTIONARY IS PROVIDED"
   ]
  },
  {
   "cell_type": "code",
   "execution_count": null,
   "id": "b3be59bd",
   "metadata": {},
   "outputs": [],
   "source": [
    "import pandas\n",
    "data = {'one': pandas.Series([1, 2, 3], index=['a', 'b', 'c']),'two': pandas.Series([1, 2, 3, 4], index=['a', 'b', 'c', 'd'])}\n",
    "table = pandas.DataFrame(data)\n",
    "print(\"Before adding a column: \")\n",
    "print(table)\n",
    "print()\n",
    "table['three'] = pandas.Series([10, 20, 30], index=['a', 'b', 'c'])\n",
    "print(\"After adding a column: \")\n",
    "print(table)\n",
    "print()\n",
    "print(\"Deleting column three: \")\n",
    "del table['three']\n",
    "print(table)\n",
    "print()\n",
    "print(\"Deleting column one: \")\n",
    "table.pop('one')\n",
    "print(table)"
   ]
  },
  {
   "cell_type": "markdown",
   "id": "8133a440",
   "metadata": {},
   "source": [
    "## PROGRAM TO CHANGE THE DATA TYPE OF GIVEN A COLUMN OR A SERIES"
   ]
  },
  {
   "cell_type": "code",
   "execution_count": null,
   "id": "206e30c9",
   "metadata": {},
   "outputs": [],
   "source": [
    "import pandas as pd\n",
    "s1 = pd.Series(['100', '200', 'python', '300.12', '400'])\n",
    "print(\"Original Data Series:\")\n",
    "print(s1)\n",
    "print()\n",
    "print(\"Change the said data type to numeric:\")\n",
    "s2 = pd.to_numeric(s1, errors='coerce') #COERCE IS USED TO FORCE STOP ERRORS\n",
    "print(s2)"
   ]
  },
  {
   "cell_type": "markdown",
   "id": "4ec66c48",
   "metadata": {},
   "source": [
    "## PROGRAM TO CREATE THE MEAN AND STANDARD DEVIATION OF THE DATA OF A GIVEN SERIES"
   ]
  },
  {
   "cell_type": "code",
   "execution_count": null,
   "id": "55de228d",
   "metadata": {},
   "outputs": [],
   "source": [
    "import pandas as pd\n",
    "s = pd.Series(data = [1,2,3,4,5,6,7,8,9,5,3])\n",
    "print(\"Original Data Series:\")\n",
    "print(s)\n",
    "print(\"\\nMean of the said Data Series:\")\n",
    "print(s.mean())\n",
    "print(\"\\nStandard deviation of the said Data Series:\")\n",
    "print(s.std())"
   ]
  },
  {
   "cell_type": "markdown",
   "id": "31ade06f",
   "metadata": {},
   "source": [
    "## PROGRAM TO CHANGE THE ORDER OF INDEX OF A GIVEN SERIES "
   ]
  },
  {
   "cell_type": "code",
   "execution_count": null,
   "id": "7cf60ccf",
   "metadata": {},
   "outputs": [],
   "source": [
    "import pandas as pd\n",
    "s = pd.Series(data = [1,2,3,4,5], index = ['A', 'B', 'C','D','E'])\n",
    "print(\"Original Data Series:\")\n",
    "print(s)\n",
    "print()\n",
    "s = s.reindex(index = ['B','A','C','D','E'])\n",
    "print(\"Data Series after changing the order of index:\")\n",
    "print(s)"
   ]
  },
  {
   "cell_type": "markdown",
   "id": "32cd9995",
   "metadata": {},
   "source": [
    "# ROCK , PAPER, SCISSOR GAME"
   ]
  },
  {
   "cell_type": "markdown",
   "id": "46e12ebc",
   "metadata": {},
   "source": [
    "#### ROCK BEATS SCISSOR\n",
    "#### SCISSOR BEATS PAPER\n",
    "#### PAPER BEATS ROCK"
   ]
  },
  {
   "cell_type": "code",
   "execution_count": null,
   "id": "797ee099",
   "metadata": {},
   "outputs": [],
   "source": [
    "import random\n",
    "p1=0\n",
    "p2=0\n",
    "win_lose = {'win':['rs','pr','sp'],'draw':['rr','pp','ss'],'loss':['rp','ps','sr']}\n",
    "repeat = 'y'\n",
    "l = ['r','s','p','r','p','s','p','r','s']\n",
    "while repeat=='y':\n",
    "    turn=input(\"your choice (r,p,s): \")\n",
    "    c=random.choice(l)\n",
    "    print('computer choice: ',c)\n",
    "    for i in win_lose:\n",
    "        if str(turn)+c in win_lose[i]:\n",
    "            print(i)"
   ]
  },
  {
   "cell_type": "markdown",
   "id": "829a8d3b",
   "metadata": {},
   "source": [
    "## PROGRAM TO DEBET AND CREDIT MONEY FROM A BANK ACCOUNT USING FUNCTION"
   ]
  },
  {
   "cell_type": "code",
   "execution_count": null,
   "id": "a4e9a9d0",
   "metadata": {},
   "outputs": [],
   "source": [
    "def make_account():\n",
    "    {'password':input('enter password: ' )}\n",
    "    return {'balance':0}\n",
    "def deposit(account,amount,password):\n",
    "    if 'password'=='password':\n",
    "        account['balance'] += amount\n",
    "        return account['balance']\n",
    "    else:\n",
    "        return 'wrong password'\n",
    "def withdraw(account,amount):\n",
    "    if 'password'=='password':\n",
    "        account['balance'] -= amount\n",
    "        return account['balance']\n",
    "    else:\n",
    "        return 'wrong password'\n",
    "#a = make_account()\n",
    "#deposit(a,100,password)\n",
    "#withdraw(a,200,password)\n",
    "#print(a)"
   ]
  },
  {
   "cell_type": "markdown",
   "id": "a4fc48ff",
   "metadata": {},
   "source": [
    "## PROGRAM TO SIMULATE DISTRIBUTION OF A DECK OF CARDS"
   ]
  },
  {
   "cell_type": "markdown",
   "id": "93ed637a",
   "metadata": {},
   "source": [
    "- The Deck class should have a deal method to deal a card from the deck\n",
    "- After a card is dealt, it is removed from the deck.\n",
    "- There should be a shuffle method which makes sure the deck of cards has all 52 cards and then rearranges them randomly.\n",
    "- The Card class should have a suit (Hearts, Diamonds,Clubs, Spades) and a value\n",
    "- (A,2,3,4,5,6,7,8,9,10,J,Q,K)"
   ]
  },
  {
   "cell_type": "code",
   "execution_count": null,
   "id": "6f6fd748",
   "metadata": {},
   "outputs": [],
   "source": [
    "import random\n",
    "def deck():\n",
    "    rs = [rank + suit for rank in 'A234567890KQJ' for suit in 'cdhs'] # 0 REPRESENTS 10,CLUB AS c, DIAMOND AS d, HEART AS h, SPADES AS s\n",
    "    return rs\n",
    "def draw_cards(n, cards_list):\n",
    "    random.shuffle(cards_list)\n",
    "    return [cards_list.pop() for k in range(n)]\n",
    "cards_list = deck()\n",
    "print(\"deck = %s cards\" % len(cards_list)) # test\n",
    "# draw n cards per hand\n",
    "n = 13\n",
    "# draw the hands\n",
    "hand1 = draw_cards(n, cards_list)\n",
    "hand2 = draw_cards(n, cards_list)\n",
    "print('-'*40)\n",
    "# show the 2 hands\n",
    "print(\"hand1 = %s\" % hand1)\n",
    "print(\"hand2 = %s\" % hand2)\n",
    "print('-'*40)\n",
    "print(\"remain_deck = %s cards\" % len(cards_list)) # test"
   ]
  },
  {
   "cell_type": "markdown",
   "id": "40a0a1e8",
   "metadata": {},
   "source": [
    "# NUMPY"
   ]
  },
  {
   "cell_type": "markdown",
   "id": "07788e43",
   "metadata": {},
   "source": [
    "NUMPY IS USED FOR SOLVING COMPLEX MATH IN PYTHON"
   ]
  },
  {
   "cell_type": "markdown",
   "id": "bb677eec",
   "metadata": {},
   "source": [
    "##  PROGRAM TO GENERATE N RANDOM"
   ]
  },
  {
   "cell_type": "code",
   "execution_count": null,
   "id": "ba3db7c4",
   "metadata": {},
   "outputs": [],
   "source": [
    "import numpy as np\n",
    "n=int(input(\"Entyer number: \"))\n",
    "x = np.random.normal(size=n)\n",
    "print(x)"
   ]
  },
  {
   "cell_type": "markdown",
   "id": "a0bf98a2",
   "metadata": {},
   "source": [
    "## PROGRAM TO CREATE RANDOM VECTOR OF SIZE N AND REPLACE THE MAXIMUM VALUE BY N "
   ]
  },
  {
   "cell_type": "code",
   "execution_count": null,
   "id": "bed5040d",
   "metadata": {},
   "outputs": [],
   "source": [
    "import numpy as np\n",
    "n=int(input(\"Enter value of N: \"))\n",
    "x = np.random.random(n)\n",
    "print(\"Original array:\")\n",
    "print(x)\n",
    "x[x.argmax()] = n\n",
    "print(\"Maximum value replaced by -1:\")\n",
    "print(x)"
   ]
  },
  {
   "cell_type": "markdown",
   "id": "bd0536bf",
   "metadata": {},
   "source": [
    "## PROGRAM TO FIND THE MOST FREQUENT VALUE IN AN ARRAY"
   ]
  },
  {
   "cell_type": "code",
   "execution_count": null,
   "id": "e1eab576",
   "metadata": {},
   "outputs": [],
   "source": [
    "import numpy as np\n",
    "x = np.random.randint(0, 10, 40)\n",
    "print(\"Original array:\")\n",
    "print(x)\n",
    "print(\"Most frequent value in the above array:\")\n",
    "print(np.bincount(x).argmax())"
   ]
  },
  {
   "cell_type": "markdown",
   "id": "7d9c1c95",
   "metadata": {},
   "source": [
    "## PROGRAM TO CREATE A 3X3X3 ARRAY WITH RANDOM VALUES"
   ]
  },
  {
   "cell_type": "code",
   "execution_count": null,
   "id": "fd86b0d0",
   "metadata": {},
   "outputs": [],
   "source": [
    "import numpy as np\n",
    "x = np.random.random((3,3,3))\n",
    "print(x)"
   ]
  },
  {
   "cell_type": "markdown",
   "id": "feb36146",
   "metadata": {},
   "source": [
    "## PROGRAME TO DETERMINE THE RANK OF THE MATRIX"
   ]
  },
  {
   "cell_type": "code",
   "execution_count": null,
   "id": "f45af29d",
   "metadata": {},
   "outputs": [],
   "source": [
    "import numpy\n",
    "A = numpy.matrix([[1,3,7],[2,8,3],[7,8,1]])\n",
    "numpy.linalg.matrix_rank(A)"
   ]
  },
  {
   "cell_type": "markdown",
   "id": "4e9eb219",
   "metadata": {},
   "source": [
    "## PROGRAM TO CONVERT A NUMPY ARRAY TO PANDASS SERIES"
   ]
  },
  {
   "cell_type": "code",
   "execution_count": null,
   "id": "465bfd66",
   "metadata": {},
   "outputs": [],
   "source": [
    "import numpy as np\n",
    "import pandas as pd\n",
    "np_array = np.array([10, 20, 30, 40, 50])\n",
    "print(\"NumPy array:\")\n",
    "print(np_array)\n",
    "print()\n",
    "new_series = pd.Series(np_array)\n",
    "print(\"Converted Pandas series:\")\n",
    "print(new_series)"
   ]
  },
  {
   "cell_type": "markdown",
   "id": "e04a2bcc",
   "metadata": {},
   "source": [
    "any suggestions dm on linkedin:\n",
    "ALWAYS WELCOME "
   ]
  }
 ],
 "metadata": {
  "kernelspec": {
   "display_name": "Python 3",
   "language": "python",
   "name": "python3"
  },
  "language_info": {
   "codemirror_mode": {
    "name": "ipython",
    "version": 3
   },
   "file_extension": ".py",
   "mimetype": "text/x-python",
   "name": "python",
   "nbconvert_exporter": "python",
   "pygments_lexer": "ipython3",
   "version": "3.8.8"
  }
 },
 "nbformat": 4,
 "nbformat_minor": 5
}
